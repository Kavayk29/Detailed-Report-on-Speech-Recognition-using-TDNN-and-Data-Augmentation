{
 "cells": [
  {
   "cell_type": "code",
   "execution_count": 1,
   "metadata": {},
   "outputs": [
    {
     "name": "stdout",
     "output_type": "stream",
     "text": [
      "Requirement already satisfied: pydub in c:\\users\\hp\\anaconda3\\envs\\py310\\lib\\site-packages (0.25.1)\n",
      "Note: you may need to restart the kernel to use updated packages.\n"
     ]
    }
   ],
   "source": [
    "%pip install pydub\n"
   ]
  },
  {
   "cell_type": "code",
   "execution_count": 2,
   "metadata": {},
   "outputs": [
    {
     "name": "stderr",
     "output_type": "stream",
     "text": [
      "c:\\Users\\HP\\anaconda3\\envs\\py310\\lib\\site-packages\\pydub\\utils.py:170: RuntimeWarning: Couldn't find ffmpeg or avconv - defaulting to ffmpeg, but may not work\n",
      "  warn(\"Couldn't find ffmpeg or avconv - defaulting to ffmpeg, but may not work\", RuntimeWarning)\n"
     ]
    },
    {
     "name": "stdout",
     "output_type": "stream",
     "text": [
      "Processing of Backward.wav complete! Saved in processed_recorded_audio\\Backward\n",
      "Processing of Bed.wav complete! Saved in processed_recorded_audio\\Bed\n",
      "Processing of Bird.wav complete! Saved in processed_recorded_audio\\Bird\n",
      "Processing of Dog.wav complete! Saved in processed_recorded_audio\\Dog\n",
      "Processing of Down.wav complete! Saved in processed_recorded_audio\\Down\n",
      "Processing of Eight.wav complete! Saved in processed_recorded_audio\\Eight\n",
      "Processing of Five.wav complete! Saved in processed_recorded_audio\\Five\n",
      "Processing of Follow.wav complete! Saved in processed_recorded_audio\\Follow\n",
      "Processing of Forward.wav complete! Saved in processed_recorded_audio\\Forward\n",
      "Processing of Four.wav complete! Saved in processed_recorded_audio\\Four\n",
      "Processing of Go.wav complete! Saved in processed_recorded_audio\\Go\n",
      "Processing of Happy.wav complete! Saved in processed_recorded_audio\\Happy\n",
      "Processing of House.wav complete! Saved in processed_recorded_audio\\House\n",
      "Processing of Learn.wav complete! Saved in processed_recorded_audio\\Learn\n",
      "Processing of Left.wav complete! Saved in processed_recorded_audio\\Left\n",
      "Processing of Marvin.wav complete! Saved in processed_recorded_audio\\Marvin\n",
      "Processing of Nine.wav complete! Saved in processed_recorded_audio\\Nine\n",
      "Processing of No.wav complete! Saved in processed_recorded_audio\\No\n",
      "Processing of Off.wav complete! Saved in processed_recorded_audio\\Off\n",
      "Processing of On.wav complete! Saved in processed_recorded_audio\\On\n",
      "Processing of One.wav complete! Saved in processed_recorded_audio\\One\n",
      "Processing of Right.wav complete! Saved in processed_recorded_audio\\Right\n",
      "Processing of Seven.wav complete! Saved in processed_recorded_audio\\Seven\n",
      "Processing of Sheila.wav complete! Saved in processed_recorded_audio\\Sheila\n",
      "Processing of Six.wav complete! Saved in processed_recorded_audio\\Six\n",
      "Processing of Stop.wav complete! Saved in processed_recorded_audio\\Stop\n",
      "Processing of three.wav complete! Saved in processed_recorded_audio\\three\n",
      "Processing of tree.wav complete! Saved in processed_recorded_audio\\tree\n",
      "Processing of two.wav complete! Saved in processed_recorded_audio\\two\n",
      "Processing of up.wav complete! Saved in processed_recorded_audio\\up\n",
      "Processing of visual.wav complete! Saved in processed_recorded_audio\\visual\n",
      "Processing of wow.wav complete! Saved in processed_recorded_audio\\wow\n",
      "Processing of yes.wav complete! Saved in processed_recorded_audio\\yes\n",
      "Processing of zero.wav complete! Saved in processed_recorded_audio\\zero\n",
      "All files processed!\n"
     ]
    }
   ],
   "source": [
    "import os\n",
    "from pydub import AudioSegment\n",
    "from pydub.silence import split_on_silence, detect_silence\n",
    "\n",
    "# Parameters\n",
    "min_silence_len = 500  # Minimum length of silence to consider for splitting (ms)\n",
    "silence_thresh_offset = 14  # Silence threshold offset (in dBFS)\n",
    "padding_duration = 1000  # Duration of padding to add before and after the word (ms)\n",
    "input_folder = \"unprocessed_recorded_audio\"  # Folder with the .wav files\n",
    "output_folder = \"processed_recorded_audio\"  # Folder where output will be saved\n",
    "\n",
    "def trim_leading_trailing_silence(segment, silence_thresh, max_silence_len):\n",
    "    # Detect leading and trailing silence\n",
    "    silent_chunks = detect_silence(segment, min_silence_len=100, silence_thresh=silence_thresh)\n",
    "    \n",
    "    if silent_chunks:\n",
    "        # Assume the silence detected is before and after the word\n",
    "        leading_silence_end = silent_chunks[0][1] if silent_chunks[0][0] == 0 else 0\n",
    "        trailing_silence_start = silent_chunks[-1][0] if silent_chunks[-1][1] == len(segment) else len(segment)\n",
    "        \n",
    "        # Trim only the leading and trailing silence (up to max_silence_len)\n",
    "        start = leading_silence_end\n",
    "        end = trailing_silence_start\n",
    "\n",
    "        if end - start < len(segment):\n",
    "            # Ensure trimming is within bounds and retains the word\n",
    "            start = max(0, start - max_silence_len)\n",
    "            end = min(len(segment), end + max_silence_len)\n",
    "            return segment[start:end]\n",
    "    return segment\n",
    "\n",
    "# Iterate over all .wav files in the input folder\n",
    "for wav_file in os.listdir(input_folder):\n",
    "    if wav_file.endswith(\".wav\"):\n",
    "        wav_path = os.path.join(input_folder, wav_file)\n",
    "        \n",
    "        # Load the audio file\n",
    "        audio = AudioSegment.from_file(wav_path)\n",
    "        \n",
    "        # Silence threshold based on the audio file\n",
    "        silence_thresh = audio.dBFS - silence_thresh_offset\n",
    "        \n",
    "        # Split audio based on silence\n",
    "        segments = split_on_silence(audio, min_silence_len=min_silence_len, silence_thresh=silence_thresh)\n",
    "        \n",
    "        # Create a subfolder for each audio file in the output folder\n",
    "        word = os.path.splitext(wav_file)[0]  # Use the filename (without extension) as the folder name\n",
    "        subfolder_path = os.path.join(output_folder, word)\n",
    "        os.makedirs(subfolder_path, exist_ok=True)  # Create the subfolder if it doesn't exist\n",
    "        \n",
    "        # Process each segment and save them in the respective subfolder\n",
    "        for i, segment in enumerate(segments):\n",
    "            # Remove leading and trailing silence\n",
    "            trimmed_segment = trim_leading_trailing_silence(segment, silence_thresh, padding_duration)\n",
    "\n",
    "            # Add padding to the beginning and end of each segment\n",
    "            start_padding = AudioSegment.silent(duration=padding_duration)\n",
    "            end_padding = AudioSegment.silent(duration=padding_duration)\n",
    "            final_segment = start_padding + trimmed_segment + end_padding\n",
    "\n",
    "            # Generate the filename\n",
    "            filename = f\"{word}_{i+1:02d}.wav\"\n",
    "            file_path = os.path.join(subfolder_path, filename)\n",
    "\n",
    "            # Export the final segment\n",
    "            final_segment.export(file_path, format=\"wav\")\n",
    "\n",
    "        print(f\"Processing of {wav_file} complete! Saved in {subfolder_path}\")\n",
    "        \n",
    "print(\"All files processed!\")\n"
   ]
  }
 ],
 "metadata": {
  "kernelspec": {
   "display_name": "py310",
   "language": "python",
   "name": "python3"
  },
  "language_info": {
   "codemirror_mode": {
    "name": "ipython",
    "version": 3
   },
   "file_extension": ".py",
   "mimetype": "text/x-python",
   "name": "python",
   "nbconvert_exporter": "python",
   "pygments_lexer": "ipython3",
   "version": "3.10.13"
  }
 },
 "nbformat": 4,
 "nbformat_minor": 2
}
